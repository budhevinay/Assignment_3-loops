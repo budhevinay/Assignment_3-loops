{
 "cells": [
  {
   "cell_type": "code",
   "execution_count": 2,
   "id": "1d72adac-641e-4ef9-b9ea-d5d541a1b69d",
   "metadata": {},
   "outputs": [
    {
     "name": "stdout",
     "output_type": "stream",
     "text": [
      "1\n",
      "2\n",
      "3\n",
      "4\n",
      "5\n",
      "6\n",
      "7\n",
      "8\n",
      "9\n",
      "10\n"
     ]
    }
   ],
   "source": [
    "#1. Write a Python program to print the numbers from 1 to 10 using a `for` loop.\n",
    "for i in range(1,11,1):\n",
    "    print(i)"
   ]
  },
  {
   "cell_type": "code",
   "execution_count": 7,
   "id": "09d31ed1-8403-400d-8085-f66d2b34d4ef",
   "metadata": {},
   "outputs": [
    {
     "name": "stdout",
     "output_type": "stream",
     "text": [
      " sum of all numbers in a list is 45\n"
     ]
    }
   ],
   "source": [
    "#2. Create a program that calculates the sum of all numbers in a list using a `for` loop.\n",
    "x=[1,2,3,4,5,6,7,8,9]\n",
    "y=0\n",
    "for i in x:\n",
    "    y=i+y\n",
    "print(' sum of all numbers in a list is {}'.format(y))\n"
   ]
  },
  {
   "cell_type": "code",
   "execution_count": 13,
   "id": "37f8a1c2-1d5b-4592-b9b9-527217c00950",
   "metadata": {},
   "outputs": [
    {
     "name": "stdout",
     "output_type": "stream",
     "text": [
      "pool `rof` a gnisu redro esrever ni gnirts a fo sretcarahc eht tnirp\n"
     ]
    }
   ],
   "source": [
    "#3. Write a program to print the characters of a string in reverse order using a `for` loop.\n",
    "x=\"print the characters of a string in reverse order using a `for` loop\"\n",
    "for i in x:\n",
    "    pass\n",
    "print(x[::-1])\n",
    "   "
   ]
  },
  {
   "cell_type": "code",
   "execution_count": 7,
   "id": "bc23af87-8270-4e16-bb93-2b2b33a11664",
   "metadata": {},
   "outputs": [
    {
     "name": "stdout",
     "output_type": "stream",
     "text": [
      "3628800\n"
     ]
    }
   ],
   "source": [
    "#4. Develop a program that finds the factorial of a given number using a `for` loop.\n",
    "factorial=1\n",
    "for i in range(1,11):\n",
    "    factorial=factorial*i\n",
    "print(factorial)"
   ]
  },
  {
   "cell_type": "code",
   "execution_count": 15,
   "id": "e79a7c0d-e7e7-4bb2-83c9-f85ff9414fd0",
   "metadata": {},
   "outputs": [
    {
     "name": "stdout",
     "output_type": "stream",
     "text": [
      " 4 X 1= 4\n",
      " 4 X 2= 8\n",
      " 4 X 3= 12\n",
      " 4 X 4= 16\n",
      " 4 X 5= 20\n",
      " 4 X 6= 24\n",
      " 4 X 7= 28\n",
      " 4 X 8= 32\n",
      " 4 X 9= 36\n",
      " 4 X 10= 40\n"
     ]
    }
   ],
   "source": [
    "#5. Create a program to print the multiplication table of a given number using a `for` loop.\n",
    "z=4\n",
    "\n",
    "for i in range(1,11,1):\n",
    "    y=z*i\n",
    "    print(' {1} X {0}= {2}'.format(i,4,y))\n",
    " "
   ]
  },
  {
   "cell_type": "code",
   "execution_count": 18,
   "id": "8a7c5c0a-3262-4dc1-b157-7d954507e822",
   "metadata": {},
   "outputs": [
    {
     "name": "stdout",
     "output_type": "stream",
     "text": [
      "no of odd number is 2 and even numbers is 4\n"
     ]
    }
   ],
   "source": [
    "#6. Write a program that counts the number of even and odd numbers in a list using a `for` loop.\n",
    "z=[1,2,3,4,5,6,5,3,2,1]\n",
    "x=0\n",
    "y=0\n",
    "for i in z:\n",
    "    if i%2==0:\n",
    "        x+=1\n",
    "    else:\n",
    "        if i%3==0:\n",
    "            y+=1\n",
    "print('no of odd number is {1} and even numbers is {0}'.format(x,y)) "
   ]
  },
  {
   "cell_type": "code",
   "execution_count": 19,
   "id": "56752f5a-181b-435c-895b-0b07fb7c6505",
   "metadata": {},
   "outputs": [
    {
     "name": "stdout",
     "output_type": "stream",
     "text": [
      "square numbers are 1\n",
      "square numbers are 4\n",
      "square numbers are 9\n",
      "square numbers are 16\n",
      "square numbers are 25\n"
     ]
    }
   ],
   "source": [
    "#7. Develop a program that prints the squares of numbers from 1 to 5 using a `for` loop.\n",
    "for i in range(1,6):\n",
    "    x=i*i\n",
    "    print('square numbers are', x)\n",
    "    "
   ]
  },
  {
   "cell_type": "code",
   "execution_count": 21,
   "id": "53db47ff-ac42-4272-b838-a464a7e7afe7",
   "metadata": {},
   "outputs": [
    {
     "name": "stdout",
     "output_type": "stream",
     "text": [
      " length of string with out using the len() funtion is 86\n"
     ]
    }
   ],
   "source": [
    "#8. Create a program to find the length of a string without using the `len()` function.\n",
    "x='8. Create a program to find the length of a string without using the `len()` function.'\n",
    "y=0\n",
    "for i in x:\n",
    "    y+=1\n",
    "print(' length of string with out using the len() funtion is', y)\n"
   ]
  },
  {
   "cell_type": "code",
   "execution_count": 26,
   "id": "a6cd7910-40ae-4cd6-a462-b9a68a295335",
   "metadata": {},
   "outputs": [
    {
     "name": "stdout",
     "output_type": "stream",
     "text": [
      "4.0\n"
     ]
    }
   ],
   "source": [
    "#9. Write a program that calculates the average of a list of numbers using a `for` loop.\n",
    "x=[1,2,3,4,5,6,7]\n",
    "y=len(x)\n",
    "z=0\n",
    "for i in x:\n",
    "    z=z+i\n",
    "a=z/y\n",
    "print(a)\n",
    "\n",
    "     \n",
    "    "
   ]
  },
  {
   "cell_type": "code",
   "execution_count": 1,
   "id": "ccf2b67f-39a0-4ef5-82e0-a91a40fa83dc",
   "metadata": {},
   "outputs": [
    {
     "name": "stdin",
     "output_type": "stream",
     "text": [
      "enter the number for fibonacci series 23\n"
     ]
    },
    {
     "name": "stdout",
     "output_type": "stream",
     "text": [
      "1\n",
      "2\n",
      "3\n",
      "5\n",
      "8\n",
      "13\n",
      "21\n",
      "34\n",
      "55\n",
      "89\n",
      "144\n",
      "233\n",
      "377\n",
      "610\n",
      "987\n",
      "1597\n",
      "2584\n",
      "4181\n",
      "6765\n",
      "10946\n",
      "17711\n",
      "28657\n",
      "46368\n"
     ]
    }
   ],
   "source": [
    "#10. Develop a program that prints the first `n` Fibonacci numbers using a `for` loop.\n",
    "x=0\n",
    "y=1\n",
    "c=0\n",
    "z=int(input('enter the number for fibonacci series'))\n",
    "for i in  range(z):\n",
    "    if i<=c:\n",
    "        a=x+y\n",
    "        x=y\n",
    "        y=a\n",
    "        c+=1\n",
    "        print(a)"
   ]
  },
  {
   "cell_type": "code",
   "execution_count": null,
   "id": "7cc5d13c-ee1f-447a-a470-44fcfdc72548",
   "metadata": {},
   "outputs": [],
   "source": [
    "\n",
    "    "
   ]
  },
  {
   "cell_type": "code",
   "execution_count": null,
   "id": "eac759cf-cc18-479a-b4e6-fac4688a4566",
   "metadata": {},
   "outputs": [],
   "source": [
    "range(z)"
   ]
  },
  {
   "cell_type": "code",
   "execution_count": 27,
   "id": "a81b8fdc-f8f8-4f5c-8a24-a2483432b596",
   "metadata": {},
   "outputs": [
    {
     "name": "stdout",
     "output_type": "stream",
     "text": [
      "duplicates are present in [1, 2, 3, 4, 5, 6, 7, 8, 9, 5, 4, 3, 2, 1]\n"
     ]
    }
   ],
   "source": [
    "#11. Write a program to check if a given list contains any duplicates using a `for` loop.\n",
    "x=[1,2,3,4,5,6,7,8,9,5,4,3,2,1]\n",
    "\n",
    "z=[ ]\n",
    "for i in x:\n",
    "    if x.count(i)==1:\n",
    "        z.append(i)\n",
    "z\n",
    "if (len(z)==len(x)):\n",
    "    print('no duplicates are present in',x)\n",
    "else:\n",
    "    print('duplicates are present in',x)\n",
    "      \n",
    "          \n",
    "        \n",
    "            \n",
    " "
   ]
  },
  {
   "cell_type": "code",
   "execution_count": 25,
   "id": "ef6f4476-5795-4254-b93c-193585f98b5e",
   "metadata": {},
   "outputs": [
    {
     "name": "stdin",
     "output_type": "stream",
     "text": [
      "enter a number for primenumber: 100\n"
     ]
    },
    {
     "name": "stdout",
     "output_type": "stream",
     "text": [
      "[1, 5, 7, 11, 13, 17, 19, 23, 25, 29, 31, 35, 37, 41, 43, 47, 49, 53, 55, 59, 61, 65, 67, 71, 73, 77, 79, 83, 85, 89, 91, 95, 97]\n"
     ]
    }
   ],
   "source": [
    "#12. Create a program that prints the prime numbers in a given range using a `for` loop.\n",
    "a=int(input('enter a number for primenumber:'))\n",
    "x=[]\n",
    "for i in range(0,a,1):\n",
    "    if i%2!=0 and i%3!=0:\n",
    "        x.append(i)\n",
    "print(x)"
   ]
  },
  {
   "cell_type": "code",
   "execution_count": null,
   "id": "5c3861a1-e3de-4607-a730-6df88e5f5ed7",
   "metadata": {},
   "outputs": [],
   "source": []
  },
  {
   "cell_type": "code",
   "execution_count": 6,
   "id": "2e0b6719-c5fc-4c76-a327-a3e94660edbd",
   "metadata": {},
   "outputs": [
    {
     "name": "stdout",
     "output_type": "stream",
     "text": [
      "24\n"
     ]
    }
   ],
   "source": [
    "#13. Develop a program that counts the number of vowels in a string using a `for` loop.\n",
    "x=('A','E','I','O','U','a','e','i','o','u')\n",
    "y=('Develop a program that counts the number of vowels in a string using a `for` loop.')\n",
    "z=0\n",
    "for vowels in y:\n",
    "    if vowels in x:\n",
    "        z+=1\n",
    "    else:\n",
    "        pass\n",
    "print(z)\n"
   ]
  },
  {
   "cell_type": "code",
   "execution_count": null,
   "id": "cd2ac9b7-d542-451f-a7a5-ea126cd7ea8b",
   "metadata": {},
   "outputs": [],
   "source": [
    "#14. Write a program to find the maximum element in a 2D list using a nested `for` loop.\n"
   ]
  },
  {
   "cell_type": "code",
   "execution_count": 7,
   "id": "ab9d80a3-98f7-4576-a64d-f11eb8258384",
   "metadata": {},
   "outputs": [
    {
     "name": "stdout",
     "output_type": "stream",
     "text": [
      "[1, 2, 4, 5, 6, 7, 2]\n"
     ]
    }
   ],
   "source": [
    "#15. Create a program that removes all occurrences of a specific element from a list using a `for` loop.\n",
    "x=[1,2,3,4,5,3,6,7,3,2,]\n",
    "y=3\n",
    "for i in x:\n",
    "    if i==y:\n",
    "        x.remove(i)\n",
    "    else:\n",
    "        continue\n",
    "print(x)\n",
    "        \n",
    "    "
   ]
  },
  {
   "cell_type": "code",
   "execution_count": 9,
   "id": "41661ef7-928f-4907-bdf0-c8ef37f4de38",
   "metadata": {},
   "outputs": [
    {
     "name": "stdout",
     "output_type": "stream",
     "text": [
      " 1 X 1= 1\n",
      " 2 X 1= 2\n",
      " 3 X 1= 3\n",
      " 4 X 1= 4\n",
      " 5 X 1= 5\n",
      " 6 X 1= 6\n",
      " 7 X 1= 7\n",
      " 8 X 1= 8\n",
      " 9 X 1= 9\n",
      " 10 X 1= 10\n",
      " 1 X 2= 20\n",
      " 2 X 2= 20\n",
      " 3 X 2= 20\n",
      " 4 X 2= 20\n",
      " 5 X 2= 20\n",
      " 6 X 2= 20\n",
      " 7 X 2= 20\n",
      " 8 X 2= 20\n",
      " 9 X 2= 20\n",
      " 10 X 2= 20\n",
      " 1 X 3= 3\n",
      " 2 X 3= 6\n",
      " 3 X 3= 9\n",
      " 4 X 3= 12\n",
      " 5 X 3= 15\n",
      " 6 X 3= 18\n",
      " 7 X 3= 21\n",
      " 8 X 3= 24\n",
      " 9 X 3= 27\n",
      " 10 X 3= 30\n",
      " 1 X 4= 4\n",
      " 2 X 4= 8\n",
      " 3 X 4= 12\n",
      " 4 X 4= 16\n",
      " 5 X 4= 20\n",
      " 6 X 4= 24\n",
      " 7 X 4= 28\n",
      " 8 X 4= 32\n",
      " 9 X 4= 36\n",
      " 10 X 4= 40\n",
      " 1 X 5= 5\n",
      " 2 X 5= 10\n",
      " 3 X 5= 15\n",
      " 4 X 5= 20\n",
      " 5 X 5= 25\n",
      " 6 X 5= 30\n",
      " 7 X 5= 35\n",
      " 8 X 5= 40\n",
      " 9 X 5= 45\n",
      " 10 X 5= 50\n"
     ]
    }
   ],
   "source": [
    "#16. Develop a program that generates a multiplication table for numbers from 1 to 5 using a nested `for` loop.\n",
    "for i in  range(1,6,1):\n",
    "    if i==1:\n",
    "        for a in range(1,11,1):\n",
    "            y=i*a\n",
    "            print(' {1} X {0}= {2}'.format(i,a,y))\n",
    "    elif i==2:\n",
    "        for b in range(1,11,1):\n",
    "            y=i*a\n",
    "            print(' {1} X {0}= {2}'.format(i,b,y))\n",
    "    elif i==3:\n",
    "        for c in range(1,11,1):\n",
    "            y=i*c\n",
    "            print(' {1} X {0}= {2}'.format(i,c,y))\n",
    "    elif i==4:\n",
    "        for d in range(1,11,1):\n",
    "            y=i*d\n",
    "            print(' {1} X {0}= {2}'.format(i,d,y))\n",
    "    elif i==5:\n",
    "        for e in range(1,11,1):\n",
    "            y=i*e\n",
    "            print(' {1} X {0}= {2}'.format(i,e,y))\n",
    "    \n",
    "    \n",
    "   \n"
   ]
  },
  {
   "cell_type": "code",
   "execution_count": 11,
   "id": "28315809-57f0-4c7a-b80b-7f741c3d0a1e",
   "metadata": {},
   "outputs": [
    {
     "name": "stdout",
     "output_type": "stream",
     "text": [
      "[32.22222222222222, 37.77777777777778, 43.333333333333336, 48.88888888888889, 54.44444444444445]\n"
     ]
    }
   ],
   "source": [
    "#17. Write a program that converts a list of Fahrenheit temperatures to Celsius using a `for` loop.\n",
    "x=[90,100,110,120,130]\n",
    "y=[]\n",
    "for temp in x:\n",
    "    y.append(((5/9)*(temp-32)))\n",
    "print(y)\n",
    "    "
   ]
  },
  {
   "cell_type": "code",
   "execution_count": 20,
   "id": "c100ad64-c504-4b5d-83c6-d725993eea6b",
   "metadata": {},
   "outputs": [
    {
     "name": "stdout",
     "output_type": "stream",
     "text": [
      "2\n",
      "3\n",
      "5\n"
     ]
    }
   ],
   "source": [
    "#18. Create a program to print the common elements from two lists using a `for` loop.\n",
    "x=[1,2,3,4,5]\n",
    "y=[2,3,5,6,7]\n",
    "for i in x:\n",
    "    if i in y:\n",
    "        print(i)"
   ]
  },
  {
   "cell_type": "code",
   "execution_count": 19,
   "id": "cde38259-65db-40cd-97e5-02f1ebdb891b",
   "metadata": {},
   "outputs": [
    {
     "name": "stdout",
     "output_type": "stream",
     "text": [
      "*\n",
      "**\n",
      "***\n",
      "****\n",
      "*****\n",
      "******\n",
      "*******\n",
      "********\n",
      "*********\n",
      "**********\n",
      "***********\n"
     ]
    }
   ],
   "source": [
    "#19. Develop a program that prints the pattern of right-angled triangles using a `for` loop. Use ‘*’ to draw the pattern\n",
    "x='*'\n",
    "\n",
    "for i in range(1,12,1):\n",
    "    print(x*i)\n",
    "  "
   ]
  },
  {
   "cell_type": "code",
   "execution_count": 30,
   "id": "d09befa4-7027-4a99-a5c9-260396c8c49f",
   "metadata": {},
   "outputs": [
    {
     "name": "stdin",
     "output_type": "stream",
     "text": [
      "enter a number for GCD: 100\n",
      "enter second  number for GCD: 56\n"
     ]
    }
   ],
   "source": [
    "#20. Write a program to find the greatest common divisor (GCD) of two numbers using a `for` loop.\n",
    "x=int(input('enter a number for GCD:'))\n",
    "y=int(input('enter second  number for GCD:'))\n",
    "for i in range(1,x):\n",
    "    if x%i==0 and y%i==0:\n",
    "        print('GCD is',i)\n",
    "        "
   ]
  },
  {
   "cell_type": "code",
   "execution_count": 31,
   "id": "32d8835c-0da8-432b-a867-fa47729bde9e",
   "metadata": {},
   "outputs": [
    {
     "name": "stdout",
     "output_type": "stream",
     "text": [
      "GCD is 1\n",
      "GCD is 2\n",
      "GCD is 4\n"
     ]
    }
   ],
   "source": []
  },
  {
   "cell_type": "code",
   "execution_count": 4,
   "id": "e5699768-e5d5-4244-98c8-6730b113e83f",
   "metadata": {},
   "outputs": [
    {
     "name": "stdout",
     "output_type": "stream",
     "text": [
      "123 sum is 6\n",
      "345 sum is 12\n",
      "678 sum is 21\n"
     ]
    }
   ],
   "source": [
    "#21. Create a program that calculates the sum of the digits of numbers in a list using a list comprehension.\n",
    "\n",
    "def sum_of_digit(num):\n",
    "    return sum(int(i) for i in str(num) if i.isdigit())\n",
    "\n",
    "\n",
    "nums = [123,345,678]\n",
    "\n",
    "\n",
    "digit_sum = [sum_of_digit(num) for num in nums]\n",
    "\n",
    "\n",
    "for i in range(len(nums)):\n",
    "    print(nums[i],'sum is', digit_sum[i])\n",
    "\n",
    "\n",
    "   "
   ]
  },
  {
   "cell_type": "code",
   "execution_count": 3,
   "id": "8b4d0171-1939-4f45-829f-52756d87be19",
   "metadata": {},
   "outputs": [
    {
     "name": "stdin",
     "output_type": "stream",
     "text": [
      "Enter a number:  12\n"
     ]
    },
    {
     "name": "stdout",
     "output_type": "stream",
     "text": [
      "Prime factors of 12 are: [2, 2, 3]\n"
     ]
    }
   ],
   "source": [
    "#22. Write a program to find the prime factors of a given number using a `for` loop and list comprehension.\n",
    "def prime_factors(n):\n",
    "    factors = []\n",
    "    divisor = 2\n",
    "\n",
    "    while n > 1:\n",
    "        while n % divisor == 0:\n",
    "            factors.append(divisor)\n",
    "            n= n // divisor\n",
    "        divisor += 1\n",
    "\n",
    "    return factors\n",
    "\n",
    "# Input a number from the user\n",
    "num = int(input(\"Enter a number: \"))\n",
    "\n",
    "if num < 2:\n",
    "    print(\"Prime factors are not defined for numbers less than 2.\")\n",
    "else:\n",
    "    factors = prime_factors(num)\n",
    "    print(f\"Prime factors of {num} are: {factors}\")\n",
    "\n"
   ]
  },
  {
   "cell_type": "code",
   "execution_count": null,
   "id": "e8c15750-f791-4c6c-8a69-995cba971bb1",
   "metadata": {},
   "outputs": [],
   "source": []
  },
  {
   "cell_type": "code",
   "execution_count": 7,
   "id": "a15810d2-2bfa-41ed-ad2e-1631ee8ed617",
   "metadata": {},
   "outputs": [
    {
     "name": "stdout",
     "output_type": "stream",
     "text": [
      "Unique elements: [1, 3, 5]\n"
     ]
    }
   ],
   "source": [
    "'''23. Develop a program that extracts unique elements from a list and stores them in a new list using a list\n",
    "comprehension.'''\n",
    "\n",
    "list_1 = [1, 2, 2, 3, 4, 4, 5, 6, 6]\n",
    "\n",
    "\n",
    "unique_ele = [i for i in list_1 if  list_1.count(i)==1]\n",
    "\n",
    "print(\"Unique elements:\", unique_ele)"
   ]
  },
  {
   "cell_type": "code",
   "execution_count": 6,
   "id": "bda062ee-87fc-431d-a116-69c5436fe86e",
   "metadata": {},
   "outputs": [
    {
     "name": "stdin",
     "output_type": "stream",
     "text": [
      "enter a number: 78\n"
     ]
    },
    {
     "name": "stdout",
     "output_type": "stream",
     "text": [
      "palindromic number are [0, 1, 2, 3, 4, 5, 6, 7, 8, 9, 11, 22, 33, 44, 55, 66, 77]\n"
     ]
    }
   ],
   "source": [
    "#24. Create a program that generates a list of all palindromic numbers up to a specified limit using a list\n",
    "#comprehension.\n",
    "\n",
    "# creating a fucntion  to check if a number is palindrome or not\n",
    "def palindrome(num):\n",
    "    return str(num)==str(num)[::-1]\n",
    "    \n",
    "limit_1=int(input('enter a number:'))\n",
    "\n",
    "numbers=[num for num in range(0,limit_1) if palindrome(num)]\n",
    "print('palindromic number are', numbers)\n"
   ]
  },
  {
   "cell_type": "code",
   "execution_count": 40,
   "id": "0245b9ed-1c0e-43b2-9904-1d112a503f03",
   "metadata": {},
   "outputs": [
    {
     "data": {
      "text/plain": [
       "[1, 2, 3, 4, 5, 6, 7]"
      ]
     },
     "execution_count": 40,
     "metadata": {},
     "output_type": "execute_result"
    }
   ],
   "source": [
    "#25.Write a program to flatten a nested list using list comprehension.\n",
    "a=[[1,2],[3,4],[5,6,7]]\n",
    "z=[y for x in a for y in x]\n",
    "z\n",
    "            \n",
    "\n",
    "\n"
   ]
  },
  {
   "cell_type": "code",
   "execution_count": 22,
   "id": "2256bc6f-0cdb-4cfa-b968-d30d8f1d2935",
   "metadata": {},
   "outputs": [
    {
     "name": "stdout",
     "output_type": "stream",
     "text": [
      "sum of even number is  20\n",
      "sum of odd number is 25\n"
     ]
    }
   ],
   "source": [
    "#26.Develop a program that computes the sum of even and odd numbers in a list separately using list comprehension.\n",
    "\n",
    "even=sum([i for i in range(0,10) if i%2==0])\n",
    "odd=sum([i for i in range(0,10) if i%2!=0])\n",
    "print('sum of even number is ',even)\n",
    "\\\n",
    "print('sum of odd number is', odd)"
   ]
  },
  {
   "cell_type": "code",
   "execution_count": 25,
   "id": "c1a90d41-1f7c-4a33-b1ba-e9185f99c53c",
   "metadata": {},
   "outputs": [
    {
     "name": "stdout",
     "output_type": "stream",
     "text": [
      "[0, 6, 12, 18]\n"
     ]
    }
   ],
   "source": [
    "#27. Create a program that generates a list of squares of odd numbers between 1 and 10 using list comprehension.\n",
    "x=[i*2 for i in range(0,11) if i%3==0]\n",
    "print(x)"
   ]
  },
  {
   "cell_type": "code",
   "execution_count": 3,
   "id": "7b9905ae-63ee-4f3d-b2a7-09bf821b2ae6",
   "metadata": {},
   "outputs": [
    {
     "name": "stdout",
     "output_type": "stream",
     "text": [
      "{'apple': 50, 'mango': 100, 'banana': 30, 'kiwi': 200}\n"
     ]
    }
   ],
   "source": [
    "#28. Write a program that combines two lists into a dictionary using list comprehension.\n",
    "keys=['apple','mango','banana','kiwi']\n",
    "value=[50,100,30,200]\n",
    "dic={keys[i]:value[i] for i in range(0,len(keys))}\n",
    "print (dic)"
   ]
  },
  {
   "cell_type": "code",
   "execution_count": 20,
   "id": "5ee703b7-2be0-4648-b93a-f7afbd13cb98",
   "metadata": {},
   "outputs": [
    {
     "name": "stdout",
     "output_type": "stream",
     "text": [
      "['a', 'e', 'i', 'o', 'u', 'A', 'E', 'I', 'O', 'U']\n",
      "z= ['e', 'e', 'o', 'a', 'o', 'a', 'a', 'e', 'a', 'e', 'o', 'e', 'o', 'a', 'i', 'a', 'o', 'e', 'e', 'i', 'a', 'i', 'u', 'i', 'i', 'o', 'e', 'e', 'i', 'o']\n"
     ]
    }
   ],
   "source": [
    "#29. Develop a program that extracts the vowels from a string and stores them in a list using list comprehension.\n",
    "x=' Develop a program that extracts the vowels from a string and stores them in a list using list comprehension'\n",
    "vowel=list('aeiouAEIOU')\n",
    "z=[i for i in (x) if i in vowel]\n",
    "print('z=', z)\n"
   ]
  },
  {
   "cell_type": "code",
   "execution_count": 35,
   "id": "60e7818f-8482-4ca9-b7e8-a392505f8a64",
   "metadata": {},
   "outputs": [
    {
     "name": "stdout",
     "output_type": "stream",
     "text": [
      "[1, 4, 5, 6, 7, 8]\n"
     ]
    }
   ],
   "source": [
    "#30. Create a program that removes all non-numeric characters from a list of strings using list comprehension.\n",
    "x=list('adgho145678tfgvbddsfx')\n",
    "\n",
    "y=[int(i) for i in x if i.isdigit()]\n",
    "print(y)\n"
   ]
  },
  {
   "cell_type": "code",
   "execution_count": null,
   "id": "1956cf61-534a-49a2-b240-4d19ed8eb24a",
   "metadata": {},
   "outputs": [],
   "source": [
    "#31Write a program to generate a list of prime numbers using the Sieve of Eratosthenes algorithm and list comprehension.\n"
   ]
  }
 ],
 "metadata": {
  "kernelspec": {
   "display_name": "Python 3 (ipykernel)",
   "language": "python",
   "name": "python3"
  },
  "language_info": {
   "codemirror_mode": {
    "name": "ipython",
    "version": 3
   },
   "file_extension": ".py",
   "mimetype": "text/x-python",
   "name": "python",
   "nbconvert_exporter": "python",
   "pygments_lexer": "ipython3",
   "version": "3.10.8"
  }
 },
 "nbformat": 4,
 "nbformat_minor": 5
}
